{
 "cells": [
  {
   "cell_type": "markdown",
   "id": "3e829375",
   "metadata": {
    "papermill": {
     "duration": 0.004911,
     "end_time": "2025-09-16T09:03:47.451622",
     "exception": false,
     "start_time": "2025-09-16T09:03:47.446711",
     "status": "completed"
    },
    "tags": []
   },
   "source": [
    "# Membuat Node, LinkedList, dan inser at begin"
   ]
  },
  {
   "cell_type": "code",
   "execution_count": 1,
   "id": "d476a081",
   "metadata": {
    "execution": {
     "iopub.execute_input": "2025-09-16T09:03:47.461049Z",
     "iopub.status.busy": "2025-09-16T09:03:47.460735Z",
     "iopub.status.idle": "2025-09-16T09:03:47.473112Z",
     "shell.execute_reply": "2025-09-16T09:03:47.472025Z"
    },
    "papermill": {
     "duration": 0.019555,
     "end_time": "2025-09-16T09:03:47.475370",
     "exception": false,
     "start_time": "2025-09-16T09:03:47.455815",
     "status": "completed"
    },
    "tags": []
   },
   "outputs": [],
   "source": [
    "class Node:\n",
    "    def __init__(self, data):\n",
    "        self.data = data\n",
    "        self.next = None\n",
    "\n",
    "class LinkedList:\n",
    "    def __init__(self):\n",
    "        self.head = None\n",
    "\n",
    "    def insertAtBegin(self, data):\n",
    "        new_node = Node(data)\n",
    "        new_node.next = self.head\n",
    "        self.head = new_node\n",
    "\n",
    "    def printList(self):\n",
    "        current_node = self.head\n",
    "        while current_node:\n",
    "            print(current_node.data, end=\" -> \")\n",
    "            current_node = current_node.next\n",
    "        print(\"None\")"
   ]
  },
  {
   "cell_type": "code",
   "execution_count": 2,
   "id": "093939e7",
   "metadata": {
    "execution": {
     "iopub.execute_input": "2025-09-16T09:03:47.489970Z",
     "iopub.status.busy": "2025-09-16T09:03:47.489246Z",
     "iopub.status.idle": "2025-09-16T09:03:47.494803Z",
     "shell.execute_reply": "2025-09-16T09:03:47.493886Z"
    },
    "papermill": {
     "duration": 0.013223,
     "end_time": "2025-09-16T09:03:47.496644",
     "exception": false,
     "start_time": "2025-09-16T09:03:47.483421",
     "status": "completed"
    },
    "tags": []
   },
   "outputs": [
    {
     "name": "stdout",
     "output_type": "stream",
     "text": [
      "Isi Linked List:\n",
      "7 -> 5 -> None\n"
     ]
    }
   ],
   "source": [
    "my_list = LinkedList()\n",
    "\n",
    "# Menambahkan elemen di awal\n",
    "my_list.insertAtBegin(5)\n",
    "my_list.insertAtBegin(7)\n",
    "\n",
    "# Mencetak hasil akhir\n",
    "print(\"Isi Linked List:\")\n",
    "my_list.printList()"
   ]
  },
  {
   "cell_type": "markdown",
   "id": "0fa9a631",
   "metadata": {
    "papermill": {
     "duration": 0.006969,
     "end_time": "2025-09-16T09:03:47.511279",
     "exception": false,
     "start_time": "2025-09-16T09:03:47.504310",
     "status": "completed"
    },
    "tags": []
   },
   "source": [
    "# Insert at End"
   ]
  },
  {
   "cell_type": "code",
   "execution_count": 3,
   "id": "51e11740",
   "metadata": {
    "execution": {
     "iopub.execute_input": "2025-09-16T09:03:47.527029Z",
     "iopub.status.busy": "2025-09-16T09:03:47.526717Z",
     "iopub.status.idle": "2025-09-16T09:03:47.533503Z",
     "shell.execute_reply": "2025-09-16T09:03:47.532739Z"
    },
    "papermill": {
     "duration": 0.015033,
     "end_time": "2025-09-16T09:03:47.534943",
     "exception": false,
     "start_time": "2025-09-16T09:03:47.519910",
     "status": "completed"
    },
    "tags": []
   },
   "outputs": [],
   "source": [
    "class Node:\n",
    "    def __init__(self, data):\n",
    "        self.data = data\n",
    "        self.next = None\n",
    "\n",
    "class LinkedList:\n",
    "    def __init__(self):\n",
    "        self.head = None\n",
    "\n",
    "    def insertAtBegin(self, data):\n",
    "        new_node = Node(data)\n",
    "        new_node.next = self.head\n",
    "        self.head = new_node\n",
    "\n",
    "    def insertAtEnd(self, data):\n",
    "        new_node = Node(data)\n",
    "        if self.head is None:\n",
    "            self.head = new_node\n",
    "            return\n",
    "        \n",
    "        last_node = self.head\n",
    "        while last_node.next:\n",
    "            last_node = last_node.next\n",
    "        \n",
    "        last_node.next = new_node\n",
    "\n",
    "    def printList(self):\n",
    "        current_node = self.head\n",
    "        while current_node:\n",
    "            print(current_node.data, end=\" -> \")\n",
    "            current_node = current_node.next\n",
    "        print(\"None\")"
   ]
  },
  {
   "cell_type": "code",
   "execution_count": 4,
   "id": "0c41e187",
   "metadata": {
    "execution": {
     "iopub.execute_input": "2025-09-16T09:03:47.548156Z",
     "iopub.status.busy": "2025-09-16T09:03:47.547670Z",
     "iopub.status.idle": "2025-09-16T09:03:47.554466Z",
     "shell.execute_reply": "2025-09-16T09:03:47.553469Z"
    },
    "papermill": {
     "duration": 0.016775,
     "end_time": "2025-09-16T09:03:47.555951",
     "exception": false,
     "start_time": "2025-09-16T09:03:47.539176",
     "status": "completed"
    },
    "tags": []
   },
   "outputs": [
    {
     "name": "stdout",
     "output_type": "stream",
     "text": [
      "Isi Linked List:\n",
      "10 -> 20 -> 30 -> None\n"
     ]
    }
   ],
   "source": [
    "my_list = LinkedList()\n",
    "\n",
    "my_list.insertAtEnd(10)\n",
    "my_list.insertAtEnd(20)\n",
    "my_list.insertAtEnd(30)\n",
    "\n",
    "print(\"Isi Linked List:\")\n",
    "my_list.printList()"
   ]
  },
  {
   "cell_type": "markdown",
   "id": "8daa37a6",
   "metadata": {
    "execution": {
     "iopub.status.busy": "2025-09-16T07:52:30.772903Z"
    },
    "papermill": {
     "duration": 0.003869,
     "end_time": "2025-09-16T09:03:47.564601",
     "exception": false,
     "start_time": "2025-09-16T09:03:47.560732",
     "status": "completed"
    },
    "tags": []
   },
   "source": [
    "# Insert at Index"
   ]
  },
  {
   "cell_type": "code",
   "execution_count": 5,
   "id": "a49ac835",
   "metadata": {
    "execution": {
     "iopub.execute_input": "2025-09-16T09:03:47.574510Z",
     "iopub.status.busy": "2025-09-16T09:03:47.573698Z",
     "iopub.status.idle": "2025-09-16T09:03:47.581996Z",
     "shell.execute_reply": "2025-09-16T09:03:47.581166Z"
    },
    "papermill": {
     "duration": 0.014501,
     "end_time": "2025-09-16T09:03:47.583233",
     "exception": false,
     "start_time": "2025-09-16T09:03:47.568732",
     "status": "completed"
    },
    "tags": []
   },
   "outputs": [],
   "source": [
    "class Node:\n",
    "    def __init__(self, data):\n",
    "        self.data = data\n",
    "        self.next = None\n",
    "\n",
    "class LinkedList:\n",
    "    def __init__(self):\n",
    "        self.head = None\n",
    "\n",
    "    def insertAtBegin(self, data):\n",
    "        new_node = Node(data)\n",
    "        new_node.next = self.head\n",
    "        self.head = new_node\n",
    "\n",
    "    def insertAtEnd(self, data):\n",
    "        new_node = Node(data)\n",
    "        if self.head is None:\n",
    "            self.head = new_node\n",
    "            return\n",
    "        \n",
    "        last_node = self.head\n",
    "        while last_node.next:\n",
    "            last_node = last_node.next\n",
    "        \n",
    "        last_node.next = new_node\n",
    "\n",
    "    def insertAtIndex(self, data, index):\n",
    "        if index < 0:\n",
    "            print(f\"❌ Error: Indeks {index} tidak valid.\")\n",
    "            return\n",
    "        if index == 0:\n",
    "            self.insertAtBegin(data)\n",
    "            return\n",
    "\n",
    "        new_node = Node(data)\n",
    "        current_node = self.head\n",
    "        position = 0\n",
    "        \n",
    "        while current_node is not None and position < index - 1:\n",
    "            current_node = current_node.next\n",
    "            position += 1\n",
    "        \n",
    "        if current_node is None:\n",
    "            print(f\"❌ Error: Indeks {index} di luar jangkauan.\")\n",
    "            return\n",
    "            \n",
    "        new_node.next = current_node.next\n",
    "        current_node.next = new_node\n",
    "        \n",
    "    def printList(self):\n",
    "        current_node = self.head\n",
    "        while current_node:\n",
    "            print(current_node.data, end=\" -> \")\n",
    "            current_node = current_node.next\n",
    "        print(\"None\")"
   ]
  },
  {
   "cell_type": "code",
   "execution_count": 6,
   "id": "ff678607",
   "metadata": {
    "execution": {
     "iopub.execute_input": "2025-09-16T09:03:47.595400Z",
     "iopub.status.busy": "2025-09-16T09:03:47.595079Z",
     "iopub.status.idle": "2025-09-16T09:03:47.601646Z",
     "shell.execute_reply": "2025-09-16T09:03:47.600586Z"
    },
    "papermill": {
     "duration": 0.014828,
     "end_time": "2025-09-16T09:03:47.603235",
     "exception": false,
     "start_time": "2025-09-16T09:03:47.588407",
     "status": "completed"
    },
    "tags": []
   },
   "outputs": [
    {
     "name": "stdout",
     "output_type": "stream",
     "text": [
      "List saat ini:\n",
      "50 -> 100 -> 200 -> None\n",
      "\n",
      "Menyisipkan 150 di indeks 2:\n",
      "50 -> 100 -> 150 -> 200 -> None\n"
     ]
    }
   ],
   "source": [
    "my_list = LinkedList()\n",
    "\n",
    "my_list.insertAtEnd(100)\n",
    "my_list.insertAtBegin(50)\n",
    "my_list.insertAtEnd(200)\n",
    "\n",
    "print(\"List saat ini:\")\n",
    "my_list.printList()\n",
    "\n",
    "print(\"\\nMenyisipkan 150 di indeks 2:\")\n",
    "my_list.insertAtIndex(150, 2)\n",
    "my_list.printList()"
   ]
  },
  {
   "cell_type": "markdown",
   "id": "fdf711b2",
   "metadata": {
    "papermill": {
     "duration": 0.006782,
     "end_time": "2025-09-16T09:03:47.615609",
     "exception": false,
     "start_time": "2025-09-16T09:03:47.608827",
     "status": "completed"
    },
    "tags": []
   },
   "source": [
    "# Update Node"
   ]
  },
  {
   "cell_type": "code",
   "execution_count": 7,
   "id": "29d1b26a",
   "metadata": {
    "execution": {
     "iopub.execute_input": "2025-09-16T09:03:47.633617Z",
     "iopub.status.busy": "2025-09-16T09:03:47.632570Z",
     "iopub.status.idle": "2025-09-16T09:03:47.648566Z",
     "shell.execute_reply": "2025-09-16T09:03:47.647686Z"
    },
    "papermill": {
     "duration": 0.025036,
     "end_time": "2025-09-16T09:03:47.649950",
     "exception": false,
     "start_time": "2025-09-16T09:03:47.624914",
     "status": "completed"
    },
    "tags": []
   },
   "outputs": [],
   "source": [
    "class Node:\n",
    "    def __init__(self, data):\n",
    "        self.data = data\n",
    "        self.next = None\n",
    "\n",
    "class LinkedList:\n",
    "    def __init__(self):\n",
    "        self.head = None\n",
    "\n",
    "    def insertAtBegin(self, data):\n",
    "        new_node = Node(data)\n",
    "        new_node.next = self.head\n",
    "        self.head = new_node\n",
    "\n",
    "    def insertAtEnd(self, data):\n",
    "        new_node = Node(data)\n",
    "        if self.head is None:\n",
    "            self.head = new_node\n",
    "            return\n",
    "        \n",
    "        last_node = self.head\n",
    "        while last_node.next:\n",
    "            last_node = last_node.next\n",
    "        \n",
    "        last_node.next = new_node\n",
    "\n",
    "    def insertAtIndex(self, data, index):\n",
    "        if index < 0:\n",
    "            print(f\"❌ Error: Indeks {index} tidak valid.\")\n",
    "            return\n",
    "        if index == 0:\n",
    "            self.insertAtBegin(data)\n",
    "            return\n",
    "\n",
    "        new_node = Node(data)\n",
    "        current_node = self.head\n",
    "        position = 0\n",
    "        \n",
    "        while current_node is not None and position < index - 1:\n",
    "            current_node = current_node.next\n",
    "            position += 1\n",
    "        \n",
    "        if current_node is None:\n",
    "            print(f\"❌ Error: Indeks {index} di luar jangkauan.\")\n",
    "            return\n",
    "            \n",
    "        new_node.next = current_node.next\n",
    "        current_node.next = new_node\n",
    "\n",
    "    def updateNode(self, val, index):\n",
    "        current_node = self.head\n",
    "        position = 0\n",
    "        \n",
    "        while current_node is not None and position < index:\n",
    "            current_node = current_node.next\n",
    "            position += 1\n",
    "            \n",
    "        if current_node is not None:\n",
    "            current_node.data = val\n",
    "            print(f\"\\nNode pada indeks {index} berhasil diperbarui menjadi {val}.\")\n",
    "        else:\n",
    "            print(f\"\\nError: Indeks {index} tidak ditemukan dalam list.\")\n",
    "        \n",
    "    def printList(self):\n",
    "        current_node = self.head\n",
    "        while current_node:\n",
    "            print(current_node.data, end=\" -> \")\n",
    "            current_node = current_node.next\n",
    "        print(\"None\")"
   ]
  },
  {
   "cell_type": "code",
   "execution_count": 8,
   "id": "08781986",
   "metadata": {
    "execution": {
     "iopub.execute_input": "2025-09-16T09:03:47.660025Z",
     "iopub.status.busy": "2025-09-16T09:03:47.659221Z",
     "iopub.status.idle": "2025-09-16T09:03:47.667913Z",
     "shell.execute_reply": "2025-09-16T09:03:47.666914Z"
    },
    "papermill": {
     "duration": 0.015022,
     "end_time": "2025-09-16T09:03:47.669404",
     "exception": false,
     "start_time": "2025-09-16T09:03:47.654382",
     "status": "completed"
    },
    "tags": []
   },
   "outputs": [
    {
     "name": "stdout",
     "output_type": "stream",
     "text": [
      "List Awal:\n",
      "10 -> 20 -> 30 -> 40 -> None\n",
      "\n",
      "Node pada indeks 2 berhasil diperbarui menjadi 99.\n",
      "10 -> 20 -> 99 -> 40 -> None\n",
      "\n",
      "Node pada indeks 0 berhasil diperbarui menjadi 5.\n",
      "5 -> 20 -> 99 -> 40 -> None\n",
      "\n",
      "Error: Indeks 5 tidak ditemukan dalam list.\n",
      "5 -> 20 -> 99 -> 40 -> None\n"
     ]
    }
   ],
   "source": [
    "ll = LinkedList()\n",
    "ll.insertAtEnd(10)\n",
    "ll.insertAtEnd(20)\n",
    "ll.insertAtEnd(30)\n",
    "ll.insertAtEnd(40)\n",
    "\n",
    "print(\"List Awal:\")\n",
    "ll.printList()\n",
    "\n",
    "ll.updateNode(99, 2)\n",
    "ll.printList()\n",
    "\n",
    "ll.updateNode(5, 0)\n",
    "ll.printList()\n",
    "\n",
    "ll.updateNode(500, 5)\n",
    "ll.printList()"
   ]
  },
  {
   "cell_type": "markdown",
   "id": "13481b46",
   "metadata": {
    "papermill": {
     "duration": 0.005075,
     "end_time": "2025-09-16T09:03:47.681198",
     "exception": false,
     "start_time": "2025-09-16T09:03:47.676123",
     "status": "completed"
    },
    "tags": []
   },
   "source": [
    "# Remove First Node"
   ]
  },
  {
   "cell_type": "code",
   "execution_count": 9,
   "id": "b1ed2fbd",
   "metadata": {
    "execution": {
     "iopub.execute_input": "2025-09-16T09:03:47.690627Z",
     "iopub.status.busy": "2025-09-16T09:03:47.690319Z",
     "iopub.status.idle": "2025-09-16T09:03:47.699983Z",
     "shell.execute_reply": "2025-09-16T09:03:47.699275Z"
    },
    "papermill": {
     "duration": 0.016071,
     "end_time": "2025-09-16T09:03:47.701408",
     "exception": false,
     "start_time": "2025-09-16T09:03:47.685337",
     "status": "completed"
    },
    "tags": []
   },
   "outputs": [],
   "source": [
    "class Node:\n",
    "    def __init__(self, data):\n",
    "        self.data = data\n",
    "        self.next = None\n",
    "\n",
    "class LinkedList:\n",
    "    def __init__(self):\n",
    "        self.head = None\n",
    "\n",
    "    def insertAtBegin(self, data):\n",
    "        new_node = Node(data)\n",
    "        new_node.next = self.head\n",
    "        self.head = new_node\n",
    "\n",
    "    def insertAtEnd(self, data):\n",
    "        new_node = Node(data)\n",
    "        if self.head is None:\n",
    "            self.head = new_node\n",
    "            return\n",
    "        \n",
    "        last_node = self.head\n",
    "        while last_node.next:\n",
    "            last_node = last_node.next\n",
    "        \n",
    "        last_node.next = new_node\n",
    "\n",
    "    def insertAtIndex(self, data, index):\n",
    "        if index < 0:\n",
    "            print(f\"❌ Error: Indeks {index} tidak valid.\")\n",
    "            return\n",
    "        if index == 0:\n",
    "            self.insertAtBegin(data)\n",
    "            return\n",
    "\n",
    "        new_node = Node(data)\n",
    "        current_node = self.head\n",
    "        position = 0\n",
    "        \n",
    "        while current_node is not None and position < index - 1:\n",
    "            current_node = current_node.next\n",
    "            position += 1\n",
    "        \n",
    "        if current_node is None:\n",
    "            print(f\"❌ Error: Indeks {index} di luar jangkauan.\")\n",
    "            return\n",
    "            \n",
    "        new_node.next = current_node.next\n",
    "        current_node.next = new_node\n",
    "        \n",
    "    def printList(self):\n",
    "        current_node = self.head\n",
    "        while current_node:\n",
    "            print(current_node.data, end=\" -> \")\n",
    "            current_node = current_node.next\n",
    "        print(\"None\")\n",
    "\n",
    "    def updateNode(self, val, index):\n",
    "        current_node = self.head\n",
    "        position = 0\n",
    "        \n",
    "        while current_node is not None and position < index:\n",
    "            current_node = current_node.next\n",
    "            position += 1\n",
    "            \n",
    "        if current_node is not None:\n",
    "            current_node.data = val\n",
    "            print(f\"\\nNode pada indeks {index} berhasil diperbarui menjadi {val}.\")\n",
    "        else:\n",
    "            print(f\"\\nError: Indeks {index} tidak ditemukan dalam list.\")\n",
    "\n",
    "    def remove_first_node(self):\n",
    "        if self.head is None:\n",
    "            print(\"\\nList sudah kosong, tidak ada yang bisa dihapus.\")\n",
    "            return\n",
    "        self.head = self.head.next\n",
    "        print(\"\\nNode pertama berhasil dihapus.\")"
   ]
  },
  {
   "cell_type": "code",
   "execution_count": 10,
   "id": "b8365a19",
   "metadata": {
    "execution": {
     "iopub.execute_input": "2025-09-16T09:03:47.711161Z",
     "iopub.status.busy": "2025-09-16T09:03:47.710514Z",
     "iopub.status.idle": "2025-09-16T09:03:47.716126Z",
     "shell.execute_reply": "2025-09-16T09:03:47.715168Z"
    },
    "papermill": {
     "duration": 0.012152,
     "end_time": "2025-09-16T09:03:47.717748",
     "exception": false,
     "start_time": "2025-09-16T09:03:47.705596",
     "status": "completed"
    },
    "tags": []
   },
   "outputs": [
    {
     "name": "stdout",
     "output_type": "stream",
     "text": [
      "List Awal:\n",
      "10 -> 20 -> 30 -> None\n",
      "\n",
      "Node pertama berhasil dihapus.\n",
      "20 -> 30 -> None\n",
      "\n",
      "Node pertama berhasil dihapus.\n",
      "30 -> None\n"
     ]
    }
   ],
   "source": [
    "ll = LinkedList()\n",
    "ll.insertAtEnd(10)\n",
    "ll.insertAtEnd(20)\n",
    "ll.insertAtEnd(30)\n",
    "\n",
    "print(\"List Awal:\")\n",
    "ll.printList()\n",
    "\n",
    "ll.remove_first_node()\n",
    "ll.printList()\n",
    "\n",
    "ll.remove_first_node()\n",
    "ll.printList()"
   ]
  },
  {
   "cell_type": "markdown",
   "id": "007fe9b5",
   "metadata": {
    "papermill": {
     "duration": 0.00381,
     "end_time": "2025-09-16T09:03:47.725915",
     "exception": false,
     "start_time": "2025-09-16T09:03:47.722105",
     "status": "completed"
    },
    "tags": []
   },
   "source": [
    "# Remove Last Node"
   ]
  },
  {
   "cell_type": "code",
   "execution_count": 11,
   "id": "bda1563e",
   "metadata": {
    "execution": {
     "iopub.execute_input": "2025-09-16T09:03:47.735840Z",
     "iopub.status.busy": "2025-09-16T09:03:47.735542Z",
     "iopub.status.idle": "2025-09-16T09:03:47.745981Z",
     "shell.execute_reply": "2025-09-16T09:03:47.745334Z"
    },
    "papermill": {
     "duration": 0.017154,
     "end_time": "2025-09-16T09:03:47.747392",
     "exception": false,
     "start_time": "2025-09-16T09:03:47.730238",
     "status": "completed"
    },
    "tags": []
   },
   "outputs": [],
   "source": [
    "class Node:\n",
    "    def __init__(self, data):\n",
    "        self.data = data\n",
    "        self.next = None\n",
    "\n",
    "class LinkedList:\n",
    "    def __init__(self):\n",
    "        self.head = None\n",
    "\n",
    "    def insertAtBegin(self, data):\n",
    "        new_node = Node(data)\n",
    "        new_node.next = self.head\n",
    "        self.head = new_node\n",
    "\n",
    "    def insertAtEnd(self, data):\n",
    "        new_node = Node(data)\n",
    "        if self.head is None:\n",
    "            self.head = new_node\n",
    "            return\n",
    "        \n",
    "        last_node = self.head\n",
    "        while last_node.next:\n",
    "            last_node = last_node.next\n",
    "        \n",
    "        last_node.next = new_node\n",
    "\n",
    "    def insertAtIndex(self, data, index):\n",
    "        if index < 0:\n",
    "            print(f\"❌ Error: Indeks {index} tidak valid.\")\n",
    "            return\n",
    "        if index == 0:\n",
    "            self.insertAtBegin(data)\n",
    "            return\n",
    "\n",
    "        new_node = Node(data)\n",
    "        current_node = self.head\n",
    "        position = 0\n",
    "        \n",
    "        while current_node is not None and position < index - 1:\n",
    "            current_node = current_node.next\n",
    "            position += 1\n",
    "        \n",
    "        if current_node is None:\n",
    "            print(f\"❌ Error: Indeks {index} di luar jangkauan.\")\n",
    "            return\n",
    "            \n",
    "        new_node.next = current_node.next\n",
    "        current_node.next = new_node\n",
    "        \n",
    "    def printList(self):\n",
    "        current_node = self.head\n",
    "        while current_node:\n",
    "            print(current_node.data, end=\" -> \")\n",
    "            current_node = current_node.next\n",
    "        print(\"None\")\n",
    "\n",
    "    def updateNode(self, val, index):\n",
    "        current_node = self.head\n",
    "        position = 0\n",
    "        \n",
    "        while current_node is not None and position < index:\n",
    "            current_node = current_node.next\n",
    "            position += 1\n",
    "            \n",
    "        if current_node is not None:\n",
    "            current_node.data = val\n",
    "            print(f\"\\nNode pada indeks {index} berhasil diperbarui menjadi {val}.\")\n",
    "        else:\n",
    "            print(f\"\\nError: Indeks {index} tidak ditemukan dalam list.\")\n",
    "\n",
    "    def remove_first_node(self):\n",
    "        if self.head is None:\n",
    "            print(\"\\nList sudah kosong, tidak ada yang bisa dihapus.\")\n",
    "            return\n",
    "        self.head = self.head.next\n",
    "        print(\"\\nNode pertama berhasil dihapus.\")\n",
    "\n",
    "    def remove_last_node(self):\n",
    "        if self.head is None:\n",
    "            print(\"\\nList sudah kosong, tidak ada yang bisa dihapus.\")\n",
    "            return\n",
    "\n",
    "        if self.head.next is None:\n",
    "            self.head = None\n",
    "            print(\"\\nNode terakhir (satu-satunya) berhasil dihapus.\")\n",
    "            return\n",
    "\n",
    "        second_last_node = self.head\n",
    "        while second_last_node.next.next:\n",
    "            second_last_node = second_last_node.next\n",
    "        \n",
    "        second_last_node.next = None\n",
    "        print(\"\\nNode terakhir berhasil dihapus.\")"
   ]
  },
  {
   "cell_type": "code",
   "execution_count": 12,
   "id": "41d6937b",
   "metadata": {
    "execution": {
     "iopub.execute_input": "2025-09-16T09:03:47.757211Z",
     "iopub.status.busy": "2025-09-16T09:03:47.756896Z",
     "iopub.status.idle": "2025-09-16T09:03:47.763156Z",
     "shell.execute_reply": "2025-09-16T09:03:47.762198Z"
    },
    "papermill": {
     "duration": 0.012946,
     "end_time": "2025-09-16T09:03:47.764622",
     "exception": false,
     "start_time": "2025-09-16T09:03:47.751676",
     "status": "completed"
    },
    "tags": []
   },
   "outputs": [
    {
     "name": "stdout",
     "output_type": "stream",
     "text": [
      "List Awal:\n",
      "10 -> 20 -> 30 -> None\n",
      "\n",
      "Node terakhir berhasil dihapus.\n",
      "10 -> 20 -> None\n",
      "\n",
      "Node terakhir berhasil dihapus.\n",
      "10 -> None\n",
      "\n",
      "Node terakhir (satu-satunya) berhasil dihapus.\n",
      "None\n",
      "\n",
      "List sudah kosong, tidak ada yang bisa dihapus.\n"
     ]
    }
   ],
   "source": [
    "ll = LinkedList()\n",
    "ll.insertAtEnd(10)\n",
    "ll.insertAtEnd(20)\n",
    "ll.insertAtEnd(30)\n",
    "\n",
    "print(\"List Awal:\")\n",
    "ll.printList()\n",
    "\n",
    "ll.remove_last_node()\n",
    "ll.printList()\n",
    "\n",
    "ll.remove_last_node()\n",
    "ll.printList()\n",
    "\n",
    "ll.remove_last_node()\n",
    "ll.printList()\n",
    "\n",
    "ll.remove_last_node()"
   ]
  },
  {
   "cell_type": "markdown",
   "id": "d0f217d0",
   "metadata": {
    "papermill": {
     "duration": 0.0041,
     "end_time": "2025-09-16T09:03:47.773442",
     "exception": false,
     "start_time": "2025-09-16T09:03:47.769342",
     "status": "completed"
    },
    "tags": []
   },
   "source": [
    "# Remove At Index"
   ]
  },
  {
   "cell_type": "code",
   "execution_count": 13,
   "id": "a78dfe44",
   "metadata": {
    "execution": {
     "iopub.execute_input": "2025-09-16T09:03:47.783321Z",
     "iopub.status.busy": "2025-09-16T09:03:47.782733Z",
     "iopub.status.idle": "2025-09-16T09:03:47.795682Z",
     "shell.execute_reply": "2025-09-16T09:03:47.794916Z"
    },
    "papermill": {
     "duration": 0.01941,
     "end_time": "2025-09-16T09:03:47.797032",
     "exception": false,
     "start_time": "2025-09-16T09:03:47.777622",
     "status": "completed"
    },
    "tags": []
   },
   "outputs": [],
   "source": [
    "class Node:\n",
    "    def __init__(self, data):\n",
    "        self.data = data\n",
    "        self.next = None\n",
    "\n",
    "class LinkedList:\n",
    "    def __init__(self):\n",
    "        self.head = None\n",
    "\n",
    "    def insertAtBegin(self, data):\n",
    "        new_node = Node(data)\n",
    "        new_node.next = self.head\n",
    "        self.head = new_node\n",
    "\n",
    "    def insertAtEnd(self, data):\n",
    "        new_node = Node(data)\n",
    "        if self.head is None:\n",
    "            self.head = new_node\n",
    "            return\n",
    "        \n",
    "        last_node = self.head\n",
    "        while last_node.next:\n",
    "            last_node = last_node.next\n",
    "        \n",
    "        last_node.next = new_node\n",
    "\n",
    "    def insertAtIndex(self, data, index):\n",
    "        if index < 0:\n",
    "            print(f\"Error: Indeks {index} tidak valid.\")\n",
    "            return\n",
    "        if index == 0:\n",
    "            self.insertAtBegin(data)\n",
    "            return\n",
    "\n",
    "        new_node = Node(data)\n",
    "        current_node = self.head\n",
    "        position = 0\n",
    "        \n",
    "        while current_node is not None and position < index - 1:\n",
    "            current_node = current_node.next\n",
    "            position += 1\n",
    "        \n",
    "        if current_node is None:\n",
    "            print(f\"Error: Indeks {index} di luar jangkauan.\")\n",
    "            return\n",
    "            \n",
    "        new_node.next = current_node.next\n",
    "        current_node.next = new_node\n",
    "        \n",
    "    def printList(self):\n",
    "        current_node = self.head\n",
    "        while current_node:\n",
    "            print(current_node.data, end=\" -> \")\n",
    "            current_node = current_node.next\n",
    "        print(\"None\")\n",
    "\n",
    "    def updateNode(self, val, index):\n",
    "        current_node = self.head\n",
    "        position = 0\n",
    "        \n",
    "        while current_node is not None and position < index:\n",
    "            current_node = current_node.next\n",
    "            position += 1\n",
    "            \n",
    "        if current_node is not None:\n",
    "            current_node.data = val\n",
    "            print(f\"\\nNode pada indeks {index} berhasil diperbarui menjadi {val}.\")\n",
    "        else:\n",
    "            print(f\"\\nError: Indeks {index} tidak ditemukan dalam list.\")\n",
    "\n",
    "    def remove_first_node(self):\n",
    "        if self.head is None:\n",
    "            print(\"\\nList sudah kosong, tidak ada yang bisa dihapus.\")\n",
    "            return\n",
    "        self.head = self.head.next\n",
    "        print(\"\\nNode pertama berhasil dihapus.\")\n",
    "\n",
    "    def remove_last_node(self):\n",
    "        if self.head is None:\n",
    "            print(\"\\nList sudah kosong, tidak ada yang bisa dihapus.\")\n",
    "            return\n",
    "\n",
    "        if self.head.next is None:\n",
    "            self.head = None\n",
    "            print(\"\\nNode terakhir (satu-satunya) berhasil dihapus.\")\n",
    "            return\n",
    "\n",
    "        second_last_node = self.head\n",
    "        while second_last_node.next.next:\n",
    "            second_last_node = second_last_node.next\n",
    "        \n",
    "        second_last_node.next = None\n",
    "        print(\"\\nNode terakhir berhasil dihapus.\")\n",
    "\n",
    "    def remove_at_index(self, index):\n",
    "        if self.head is None:\n",
    "            print(\"\\nList kosong, tidak ada yang bisa dihapus.\")\n",
    "            return\n",
    "\n",
    "        if index < 0:\n",
    "            print(f\"\\nError: Indeks {index} tidak valid.\")\n",
    "            return\n",
    "\n",
    "        if index == 0:\n",
    "            self.head = self.head.next\n",
    "            print(f\"\\nNode pada indeks {index} berhasil dihapus.\")\n",
    "            return\n",
    "        \n",
    "        current_node = self.head\n",
    "        position = 0\n",
    "        while current_node is not None and position < index - 1:\n",
    "            current_node = current_node.next\n",
    "            position += 1\n",
    "\n",
    "        if current_node is None or current_node.next is None:\n",
    "            print(f\"\\nError: Indeks {index} di luar jangkauan.\")\n",
    "        else:\n",
    "            current_node.next = current_node.next.next\n",
    "            print(f\"\\nNode pada indeks {index} berhasil dihapus.\")"
   ]
  },
  {
   "cell_type": "code",
   "execution_count": 14,
   "id": "ec5092d1",
   "metadata": {
    "execution": {
     "iopub.execute_input": "2025-09-16T09:03:47.809291Z",
     "iopub.status.busy": "2025-09-16T09:03:47.808751Z",
     "iopub.status.idle": "2025-09-16T09:03:47.817611Z",
     "shell.execute_reply": "2025-09-16T09:03:47.816460Z"
    },
    "papermill": {
     "duration": 0.017671,
     "end_time": "2025-09-16T09:03:47.819096",
     "exception": false,
     "start_time": "2025-09-16T09:03:47.801425",
     "status": "completed"
    },
    "tags": []
   },
   "outputs": [
    {
     "name": "stdout",
     "output_type": "stream",
     "text": [
      "List Awal:\n",
      "10 -> 20 -> 30 -> 40 -> None\n",
      "\n",
      "Node pada indeks 2 berhasil dihapus.\n",
      "10 -> 20 -> 40 -> None\n",
      "\n",
      "Node pada indeks 0 berhasil dihapus.\n",
      "20 -> 40 -> None\n",
      "\n",
      "Error: Indeks 5 di luar jangkauan.\n",
      "20 -> 40 -> None\n"
     ]
    }
   ],
   "source": [
    "ll = LinkedList()\n",
    "ll.insertAtEnd(10)\n",
    "ll.insertAtEnd(20)\n",
    "ll.insertAtEnd(30)\n",
    "ll.insertAtEnd(40)\n",
    "\n",
    "print(\"List Awal:\")\n",
    "ll.printList()\n",
    "\n",
    "ll.remove_at_index(2)\n",
    "ll.printList()\n",
    "\n",
    "ll.remove_at_index(0)\n",
    "ll.printList()\n",
    "\n",
    "ll.remove_at_index(5)\n",
    "ll.printList()"
   ]
  }
 ],
 "metadata": {
  "kaggle": {
   "accelerator": "none",
   "dataSources": [],
   "dockerImageVersionId": 31089,
   "isGpuEnabled": false,
   "isInternetEnabled": true,
   "language": "python",
   "sourceType": "notebook"
  },
  "kernelspec": {
   "display_name": "Python 3",
   "language": "python",
   "name": "python3"
  },
  "language_info": {
   "codemirror_mode": {
    "name": "ipython",
    "version": 3
   },
   "file_extension": ".py",
   "mimetype": "text/x-python",
   "name": "python",
   "nbconvert_exporter": "python",
   "pygments_lexer": "ipython3",
   "version": "3.11.13"
  },
  "papermill": {
   "default_parameters": {},
   "duration": 5.929725,
   "end_time": "2025-09-16T09:03:48.245637",
   "environment_variables": {},
   "exception": null,
   "input_path": "__notebook__.ipynb",
   "output_path": "__notebook__.ipynb",
   "parameters": {},
   "start_time": "2025-09-16T09:03:42.315912",
   "version": "2.6.0"
  }
 },
 "nbformat": 4,
 "nbformat_minor": 5
}
