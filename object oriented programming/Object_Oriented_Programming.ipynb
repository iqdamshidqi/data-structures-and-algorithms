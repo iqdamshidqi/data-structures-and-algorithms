{
  "cells": [
    {
      "cell_type": "markdown",
      "id": "ad7522a3",
      "metadata": {
        "id": "ad7522a3"
      },
      "source": [
        "# Object Oriented Programming (OOP)\n",
        "**Reading material:** https://www.python-course.eu/python3_object_oriented_programming.php <br />\n",
        "\n",
        "![OOP-1.png](attachment:OOP-1.png)\n",
        "\n",
        "\n"
      ]
    },
    {
      "cell_type": "markdown",
      "id": "4026545a",
      "metadata": {
        "id": "4026545a"
      },
      "source": [
        "## Definisi\n",
        "**class**: a class describes the contents of the objects that belong to it: it describes an aggregate of data fields (called instance variables), and defines the operations (called methods).\n",
        "\n",
        "**object**: an object is an element (or instance) of a class; objects have the behaviors of their class.\n",
        "\n",
        "https://caml.inria.fr/pub/docs/oreilly-book/html/book-ora140.html\n",
        "\n",
        "## Sebelum OOP - Procedural Programming Paradigm\n",
        "\n",
        "![OOP-2](attachment:OOP-2.png)"
      ]
    },
    {
      "cell_type": "code",
      "execution_count": null,
      "id": "edbdb753",
      "metadata": {
        "id": "edbdb753",
        "outputId": "e1f403a4-0362-4456-b23e-cce0cb39cc9b"
      },
      "outputs": [
        {
          "data": {
            "text/plain": [
              "(26, 16.0)"
            ]
          },
          "execution_count": 2,
          "metadata": {},
          "output_type": "execute_result"
        }
      ],
      "source": [
        "# Contoh PP\n",
        "def fungsi_1(x):\n",
        "    return x**2 + 1\n",
        "\n",
        "def fungsi_2(x, h=10):\n",
        "    return (fungsi_1(x + h) - fungsi_1(x)) / h\n",
        "\n",
        "fungsi_1(5), fungsi_2(3)"
      ]
    },
    {
      "cell_type": "markdown",
      "id": "1634c666",
      "metadata": {
        "id": "1634c666"
      },
      "source": [
        "## Kelemahan PP?\n",
        "\n",
        "![OOP-3.png](attachment:OOP-3.png)\n",
        "\n",
        "**image source**: https://medium.com/@1550707241489/procedural-programming-vs-object-oriented-programming-7d541a62f5c\n",
        "\n",
        "- Saat fungsi sudah terlalu banyak perubahan kecil di suatu fungsi akan menyebabkan seluruh code tidak berjalan dengan baik. Karena keterbegantungan antar fungsi begitu tinggi.\n",
        "- Untuk program sederhana tidak terlalu masalah."
      ]
    },
    {
      "cell_type": "markdown",
      "id": "36fabfce",
      "metadata": {
        "id": "36fabfce"
      },
      "source": [
        "## OOP mengatasi kusut-nya spagheti diatas dengan mengelompokkan fungsi yang serupa.\n",
        "\n",
        "![OOP-4.png](attachment:OOP-4.png)\n",
        "\n",
        "Hal ini disebut sebagai **Encapsulation**\n",
        "\n",
        "tapi selama ini kita menggunakan Python sebenarnya sudah bekerja dengan objek-objek.\n",
        "\n",
        "## Perlukah Data Scientist Belajar OOP\n",
        "\n",
        "- Beginner-Intermediate .... IMHO No.\n",
        "- Advanced, research, atau corporate ... Yes!."
      ]
    },
    {
      "cell_type": "code",
      "execution_count": null,
      "id": "633bc2fc",
      "metadata": {
        "id": "633bc2fc",
        "outputId": "f18f5192-df0e-4233-edfa-527d5efe3346"
      },
      "outputs": [
        {
          "name": "stdout",
          "output_type": "stream",
          "text": [
            "<class 'int'> <class 'str'>\n"
          ]
        }
      ],
      "source": [
        "N = 99\n",
        "T = 'sembarang string'\n",
        "print(type(N), type(T))"
      ]
    },
    {
      "cell_type": "markdown",
      "id": "76f5d7aa",
      "metadata": {
        "id": "76f5d7aa"
      },
      "source": [
        "## (Hampir) Semua hal di Python adalah object, termasuk fungsi kita sebelumnya"
      ]
    },
    {
      "cell_type": "code",
      "execution_count": null,
      "id": "a64251f7",
      "metadata": {
        "id": "a64251f7",
        "outputId": "a3acee13-89b5-487f-a89e-674328f9bf1e"
      },
      "outputs": [
        {
          "name": "stdout",
          "output_type": "stream",
          "text": [
            "<class 'function'>\n"
          ]
        }
      ],
      "source": [
        "print(type(fungsi_1))"
      ]
    },
    {
      "cell_type": "markdown",
      "id": "b2c45c28",
      "metadata": {
        "id": "b2c45c28"
      },
      "source": [
        "## Karena object, maka ia memiliki properties dan fungsi"
      ]
    },
    {
      "cell_type": "code",
      "execution_count": null,
      "id": "1782f13a",
      "metadata": {
        "id": "1782f13a",
        "outputId": "251bd3d1-1872-4e76-b6f5-9dd1893b3e01"
      },
      "outputs": [
        {
          "name": "stdout",
          "output_type": "stream",
          "text": [
            "['sembarang', 'string']\n"
          ]
        },
        {
          "data": {
            "text/plain": [
              "99"
            ]
          },
          "execution_count": 7,
          "metadata": {},
          "output_type": "execute_result"
        }
      ],
      "source": [
        "print( T.split() ) # Fungsi/method objek string T\n",
        "N.real # Property ditandai dengan tidak adanya tanda \"()\"\n",
        "# di Python Property di sebut Attribute"
      ]
    },
    {
      "cell_type": "code",
      "execution_count": null,
      "id": "f2abe0ed",
      "metadata": {
        "id": "f2abe0ed"
      },
      "outputs": [],
      "source": [
        "import numpy as np\n",
        "\n",
        "A = np.array([1,2,3])"
      ]
    },
    {
      "cell_type": "code",
      "execution_count": null,
      "id": "58d99910",
      "metadata": {
        "id": "58d99910",
        "outputId": "b5bab802-403a-4947-a921-26f15cb591f4"
      },
      "outputs": [
        {
          "data": {
            "text/plain": [
              "['T',\n",
              " '__abs__',\n",
              " '__add__',\n",
              " '__and__',\n",
              " '__array__',\n",
              " '__array_finalize__',\n",
              " '__array_function__',\n",
              " '__array_interface__',\n",
              " '__array_prepare__',\n",
              " '__array_priority__',\n",
              " '__array_struct__',\n",
              " '__array_ufunc__',\n",
              " '__array_wrap__',\n",
              " '__bool__',\n",
              " '__class__',\n",
              " '__class_getitem__',\n",
              " '__complex__',\n",
              " '__contains__',\n",
              " '__copy__',\n",
              " '__deepcopy__',\n",
              " '__delattr__',\n",
              " '__delitem__',\n",
              " '__dir__',\n",
              " '__divmod__',\n",
              " '__dlpack__',\n",
              " '__dlpack_device__',\n",
              " '__doc__',\n",
              " '__eq__',\n",
              " '__float__',\n",
              " '__floordiv__',\n",
              " '__format__',\n",
              " '__ge__',\n",
              " '__getattribute__',\n",
              " '__getitem__',\n",
              " '__gt__',\n",
              " '__hash__',\n",
              " '__iadd__',\n",
              " '__iand__',\n",
              " '__ifloordiv__',\n",
              " '__ilshift__',\n",
              " '__imatmul__',\n",
              " '__imod__',\n",
              " '__imul__',\n",
              " '__index__',\n",
              " '__init__',\n",
              " '__init_subclass__',\n",
              " '__int__',\n",
              " '__invert__',\n",
              " '__ior__',\n",
              " '__ipow__',\n",
              " '__irshift__',\n",
              " '__isub__',\n",
              " '__iter__',\n",
              " '__itruediv__',\n",
              " '__ixor__',\n",
              " '__le__',\n",
              " '__len__',\n",
              " '__lshift__',\n",
              " '__lt__',\n",
              " '__matmul__',\n",
              " '__mod__',\n",
              " '__mul__',\n",
              " '__ne__',\n",
              " '__neg__',\n",
              " '__new__',\n",
              " '__or__',\n",
              " '__pos__',\n",
              " '__pow__',\n",
              " '__radd__',\n",
              " '__rand__',\n",
              " '__rdivmod__',\n",
              " '__reduce__',\n",
              " '__reduce_ex__',\n",
              " '__repr__',\n",
              " '__rfloordiv__',\n",
              " '__rlshift__',\n",
              " '__rmatmul__',\n",
              " '__rmod__',\n",
              " '__rmul__',\n",
              " '__ror__',\n",
              " '__rpow__',\n",
              " '__rrshift__',\n",
              " '__rshift__',\n",
              " '__rsub__',\n",
              " '__rtruediv__',\n",
              " '__rxor__',\n",
              " '__setattr__',\n",
              " '__setitem__',\n",
              " '__setstate__',\n",
              " '__sizeof__',\n",
              " '__str__',\n",
              " '__sub__',\n",
              " '__subclasshook__',\n",
              " '__truediv__',\n",
              " '__xor__',\n",
              " 'all',\n",
              " 'any',\n",
              " 'argmax',\n",
              " 'argmin',\n",
              " 'argpartition',\n",
              " 'argsort',\n",
              " 'astype',\n",
              " 'base',\n",
              " 'byteswap',\n",
              " 'choose',\n",
              " 'clip',\n",
              " 'compress',\n",
              " 'conj',\n",
              " 'conjugate',\n",
              " 'copy',\n",
              " 'ctypes',\n",
              " 'cumprod',\n",
              " 'cumsum',\n",
              " 'data',\n",
              " 'diagonal',\n",
              " 'dot',\n",
              " 'dtype',\n",
              " 'dump',\n",
              " 'dumps',\n",
              " 'fill',\n",
              " 'flags',\n",
              " 'flat',\n",
              " 'flatten',\n",
              " 'getfield',\n",
              " 'imag',\n",
              " 'item',\n",
              " 'itemset',\n",
              " 'itemsize',\n",
              " 'max',\n",
              " 'mean',\n",
              " 'min',\n",
              " 'nbytes',\n",
              " 'ndim',\n",
              " 'newbyteorder',\n",
              " 'nonzero',\n",
              " 'partition',\n",
              " 'prod',\n",
              " 'ptp',\n",
              " 'put',\n",
              " 'ravel',\n",
              " 'real',\n",
              " 'repeat',\n",
              " 'reshape',\n",
              " 'resize',\n",
              " 'round',\n",
              " 'searchsorted',\n",
              " 'setfield',\n",
              " 'setflags',\n",
              " 'shape',\n",
              " 'size',\n",
              " 'sort',\n",
              " 'squeeze',\n",
              " 'std',\n",
              " 'strides',\n",
              " 'sum',\n",
              " 'swapaxes',\n",
              " 'take',\n",
              " 'tobytes',\n",
              " 'tofile',\n",
              " 'tolist',\n",
              " 'tostring',\n",
              " 'trace',\n",
              " 'transpose',\n",
              " 'var',\n",
              " 'view']"
            ]
          },
          "execution_count": 9,
          "metadata": {},
          "output_type": "execute_result"
        }
      ],
      "source": [
        "dir(A)"
      ]
    },
    {
      "cell_type": "code",
      "execution_count": null,
      "id": "ec13e08e",
      "metadata": {
        "id": "ec13e08e",
        "outputId": "fc7ca392-084d-4b56-effd-88b048bfc5bd"
      },
      "outputs": [
        {
          "name": "stdout",
          "output_type": "stream",
          "text": [
            "Error :  'int' object has no attribute 'split'\n"
          ]
        }
      ],
      "source": [
        "# Tentu saja ini akan Error, tapi perhatikan pesan error-nya.\n",
        "try:\n",
        "    N.split()\n",
        "except Exception as err_:\n",
        "    print('Error : ', err_)"
      ]
    },
    {
      "cell_type": "markdown",
      "id": "4196e707",
      "metadata": {
        "id": "4196e707"
      },
      "source": [
        "## Secara umum ada beberapa konsep dalam sistem OOP\n",
        "\n",
        "![OOP-5.png](attachment:OOP-5.png)\n",
        "\n",
        "image Source: https://www.nerd.vision/post/polymorphism-encapsulation-data-abstraction-and-inheritance-in-object-oriented-programming\n",
        "\n",
        "## Tapi bagaimana kalau mau membuat sendiri object-nya?"
      ]
    },
    {
      "cell_type": "code",
      "execution_count": null,
      "id": "eaf9652f",
      "metadata": {
        "id": "eaf9652f",
        "outputId": "22ec811b-134a-4953-e742-1d933ec55e08"
      },
      "outputs": [
        {
          "name": "stdout",
          "output_type": "stream",
          "text": [
            "True\n",
            "False\n"
          ]
        }
      ],
      "source": [
        "# Contoh di http://python-course.eu disini tidak perlu if-main\n",
        "class Robot:\n",
        "    pass\n",
        "\n",
        "x = Robot()\n",
        "y = Robot()\n",
        "z = y\n",
        "print(y == z)\n",
        "print(y == x)"
      ]
    },
    {
      "cell_type": "code",
      "execution_count": null,
      "id": "cf3cecf6",
      "metadata": {
        "id": "cf3cecf6",
        "outputId": "a72186e6-d68f-4195-ef06-c544d04ffef1"
      },
      "outputs": [
        {
          "name": "stdout",
          "output_type": "stream",
          "text": [
            "<__main__.Robot object at 0x000001DF94C476A0>\n",
            "Marvin\n",
            "1993\n",
            "{'name': 'Marvin', 'build_year': '1979'}\n",
            "contoh fungsi pertama\n"
          ]
        }
      ],
      "source": [
        "# Bad practice, tapi dapat dilakukan di Python\n",
        "# Menambahkan property ke object\n",
        "\n",
        "x.name = \"Marvin\"\n",
        "x.build_year = \"1979\"\n",
        "y.name = \"Caliban\"\n",
        "y.build_year = \"1993\"\n",
        "fungsi_1.keterangan ='contoh fungsi pertama' #bahkan fungsi adalah object\n",
        "\n",
        "print(x, x.name, y.build_year, x.__dict__, fungsi_1.keterangan, sep='\\n')"
      ]
    },
    {
      "cell_type": "code",
      "execution_count": null,
      "id": "25c4586c",
      "metadata": {
        "id": "25c4586c",
        "outputId": "4e02c7eb-aacc-45c6-df33-10bfaac0af92"
      },
      "outputs": [
        {
          "name": "stdout",
          "output_type": "stream",
          "text": [
            "<class '__main__.Robot'>\n"
          ]
        }
      ],
      "source": [
        "# Menambahkan fungsi ke Object\n",
        "class Robot: # sebagai pembeda Class biasanya diawali huruf besar\n",
        "\n",
        "    def beriSalam(self): # Method\n",
        "        print('Assalamualaikum')\n",
        "\n",
        "gundam = Robot()\n",
        "print(type(gundam))\n",
        "# __main__ ==> dimana \"robot\" kita di definisikan.\n",
        "# Defaultnya di __main__"
      ]
    },
    {
      "cell_type": "code",
      "execution_count": null,
      "id": "45c3d9d0",
      "metadata": {
        "id": "45c3d9d0",
        "outputId": "baa4a405-2a66-45bd-bc3f-11af3c8abbd2"
      },
      "outputs": [
        {
          "name": "stdout",
          "output_type": "stream",
          "text": [
            "Assalamualaikum\n"
          ]
        }
      ],
      "source": [
        "# Kita sudah definisikan sebelumnya \"Robot\" punya method \"beriSalam\"\n",
        "\n",
        "gundam.beriSalam()"
      ]
    },
    {
      "cell_type": "code",
      "execution_count": null,
      "id": "516bf1f7",
      "metadata": {
        "id": "516bf1f7",
        "outputId": "ea3ffdad-c15b-4dfb-ed4f-4426f04ec6a0"
      },
      "outputs": [
        {
          "data": {
            "text/plain": [
              "'Hi Asep'"
            ]
          },
          "execution_count": 6,
          "metadata": {},
          "output_type": "execute_result"
        }
      ],
      "source": [
        "# Tentu saja object juga bisa \"return\" values\n",
        "\n",
        "class Robot:\n",
        "    def sapa(self, nama = ''):\n",
        "        return \"Hi \" + nama\n",
        "    def beriSalam(self): # Method\n",
        "        print('Assalamualaikum')\n",
        "\n",
        "gundam = Robot()\n",
        "x = gundam.sapa('Asep')\n",
        "x"
      ]
    },
    {
      "cell_type": "markdown",
      "id": "a892fed9",
      "metadata": {
        "id": "a892fed9"
      },
      "source": [
        "## Apa itu \"self\" ? ... Sebelumnya mari kita bahas dulu \"init\""
      ]
    },
    {
      "cell_type": "code",
      "execution_count": null,
      "id": "431fd88b",
      "metadata": {
        "id": "431fd88b",
        "outputId": "92a8acb1-8cb8-4655-8275-0b02187b6a83"
      },
      "outputs": [
        {
          "data": {
            "text/plain": [
              "('dbz', 'dbz', 2020)"
            ]
          },
          "execution_count": 21,
          "metadata": {},
          "output_type": "execute_result"
        }
      ],
      "source": [
        "class Robot:\n",
        "    # __init__ akan dijalankan setiap Objek dibuat\n",
        "    def __init__(self, tipe, tahun=2020):\n",
        "        self.tipe = tipe\n",
        "        self.tahun_produksi = tahun\n",
        "\n",
        "    def sapa(self, nama = ''):\n",
        "        return \"Hi \" + nama\n",
        "    def beriSalam(self): # Method\n",
        "        print('_Assalamualaikum_ ... :)')\n",
        "\n",
        "Android17 = Robot('dbz', tahun=1997) # __init__ dijalankan disini\n",
        "Android18 = Robot('dbz') # __init__ dijalankan disini\n",
        "Gundam = Robot('SuperNova', tahun=2020)\n",
        "\n",
        "# Apa yang dimasukkan ke tanda () akan dimasukkan ke \"fungsi __init__\"\n",
        "Android17.tipe, Android18.tipe, Gundam.tahun_produksi"
      ]
    },
    {
      "cell_type": "markdown",
      "id": "9c54d677",
      "metadata": {
        "id": "9c54d677"
      },
      "source": [
        "## Dari contoh diatas \"self\" semacam pointer ke object yang saat ini dibuat/akses.\n",
        "\n",
        "![OOP-6.png](attachment:OOP-6.png)\n",
        "\n",
        "Class yang memiliki nilai (attribute) disebut **Instance**\n",
        "\n",
        "Nilai attribute disimpan secara permanen\n",
        "\n",
        "OOP tidak menyukai parameter (yang banyak)"
      ]
    },
    {
      "cell_type": "markdown",
      "id": "223f1d95",
      "metadata": {
        "id": "223f1d95"
      },
      "source": [
        "## kita bisa juga buat Method yang mengakses attribute. Mengapa????...\n",
        "\n",
        "Karena kalau di masa depan kita mengganti nama Attribute, maka fungsinya akan tetap bisa bekerja dengan baik (tanpa harus mengganti code di banyak tempat)."
      ]
    },
    {
      "cell_type": "code",
      "execution_count": null,
      "id": "4b0ebbca",
      "metadata": {
        "id": "4b0ebbca",
        "outputId": "7288b538-cdc5-4f4e-c60c-c0b06975c5f2"
      },
      "outputs": [
        {
          "data": {
            "text/plain": [
              "(('dbz', 2002), 'dbz')"
            ]
          },
          "execution_count": 22,
          "metadata": {},
          "output_type": "execute_result"
        }
      ],
      "source": [
        "class Robot:\n",
        "    # __init__ akan dijalankan setiap Objek dibuat\n",
        "    def __init__(self, tipe, tahun=2020):\n",
        "        self.tipe = tipe\n",
        "        self.tahun_produksi = tahun\n",
        "\n",
        "    def sapa(self, nama = ''):\n",
        "        return \"Hi \" + nama\n",
        "    def beriSalam(self): # Method\n",
        "        print('_Assalamualaikum_ ... :)')\n",
        "    def getDetails(self):\n",
        "        return self.tipe, self.tahun_produksi\n",
        "\n",
        "Android18 = Robot('dbz', 2002) # __init__ dijalankan disini\n",
        "Android18.getDetails(), Android18.tipe"
      ]
    },
    {
      "cell_type": "code",
      "execution_count": null,
      "id": "15e5e7bc",
      "metadata": {
        "id": "15e5e7bc",
        "outputId": "d3663468-66e4-4543-d07e-9f82097359f1"
      },
      "outputs": [
        {
          "name": "stdout",
          "output_type": "stream",
          "text": [
            "Error :  getDetails() takes 0 positional arguments but 1 was given\n"
          ]
        }
      ],
      "source": [
        "# Perhatikan pesan error berikut untuk lebih mengerti tentang self\n",
        "class Robot:\n",
        "    # __init__ akan dijalankan setiap Objek dibuat\n",
        "    def __init__(self, tipe, tahun=2020):\n",
        "        self.tipe = tipe\n",
        "        self.tahun_produksi = tahun\n",
        "\n",
        "    def sapa(self, nama = ''):\n",
        "        return \"Hi \" + nama\n",
        "    def beriSalam(self): # Method\n",
        "        print('_Assalamualaikum_ ... :)')\n",
        "    def getDetails():\n",
        "        return self.tipe, self.tahun_produksi\n",
        "\n",
        "Android18 = Robot('dbz', 2002) # __init__ dijalankan disini\n",
        "\n",
        "try:\n",
        "    Android18.getDetails()\n",
        "except Exception as err_:\n",
        "    print('Error : ', err_)\n",
        "# self adalah parameter input by default ... walau ndak nampak/explicitly given"
      ]
    },
    {
      "cell_type": "markdown",
      "id": "9d58d1be",
      "metadata": {
        "id": "9d58d1be"
      },
      "source": [
        "## Attribute bisa diupdate lewat Method\n",
        "Sehingga objek yang berbeda bisa dioperasikan secara berbeda bergantung metode yang didefinisikan atas objek tersebut."
      ]
    },
    {
      "cell_type": "code",
      "execution_count": null,
      "id": "e3a9164b",
      "metadata": {
        "id": "e3a9164b",
        "outputId": "445d61f9-10be-4b3f-e62e-b83e04914f21"
      },
      "outputs": [
        {
          "data": {
            "text/plain": [
              "('DB GT', 2002)"
            ]
          },
          "execution_count": 25,
          "metadata": {},
          "output_type": "execute_result"
        }
      ],
      "source": [
        "class Robot:\n",
        "    # __init__ akan dijalankan setiap Objek dibuat\n",
        "    def __init__(self, tipe, tahun=2020):\n",
        "        self.tipe = tipe\n",
        "        self.tahun_produksi = tahun\n",
        "\n",
        "    def sapa(self, nama = ''):\n",
        "        return \"Hi \" + nama\n",
        "    def beriSalam(self): # Method\n",
        "        print('_Assalamualaikum_ ... :)')\n",
        "    def getDetails(self):\n",
        "        return self.tipe, self.tahun_produksi\n",
        "    def gantiTipe(self, tipe):\n",
        "        self.tipe = tipe\n",
        "\n",
        "Android18 = Robot('dbz', 2002) # __init__ dijalankan disini\n",
        "Android18.gantiTipe('DB GT')\n",
        "Android18.getDetails()"
      ]
    },
    {
      "cell_type": "markdown",
      "id": "9474797f",
      "metadata": {
        "id": "9474797f"
      },
      "source": [
        "## Class Variabel vs Instance Variabel"
      ]
    },
    {
      "cell_type": "code",
      "execution_count": null,
      "id": "b66b32c4",
      "metadata": {
        "id": "b66b32c4",
        "outputId": "8dca9544-b35c-4d38-8a9d-d25f270662ca"
      },
      "outputs": [
        {
          "name": "stdout",
          "output_type": "stream",
          "text": [
            "{'tipe': 'cbr', 'tahun_produksi': 1997}\n",
            "{'tipe': 'dbz', 'tahun_produksi': 2002}\n",
            "{'__module__': '__main__', '__init__': <function Robot.__init__ at 0x00000298F7ACD620>, 'sapa': <function Robot.sapa at 0x00000298F7ACD580>, 'beriSalam': <function Robot.beriSalam at 0x00000298F7ACD4E0>, 'getDetails': <function Robot.getDetails at 0x00000298F7ACC7C0>, 'gantiTipe': <function Robot.gantiTipe at 0x00000298F7ACD440>, '__dict__': <attribute '__dict__' of 'Robot' objects>, '__weakref__': <attribute '__weakref__' of 'Robot' objects>, '__doc__': None}\n"
          ]
        }
      ],
      "source": [
        "class Robot:\n",
        "    # __init__ akan dijalankan setiap Objek dibuat\n",
        "    def __init__(self, tipe, tahun=2020):\n",
        "        self.tipe = tipe\n",
        "        self.tahun_produksi = tahun\n",
        "\n",
        "    def sapa(self, nama = ''):\n",
        "        return \"Hi \" + nama\n",
        "    def beriSalam(self): # Method\n",
        "        print('_Assalamualaikum_ ... :)')\n",
        "    def getDetails(self):\n",
        "        return self.tipe, self.tahun_produksi\n",
        "    def gantiTipe(self, tipe):\n",
        "        self.tipe = tipe\n",
        "\n",
        "Android17 = Robot('cbr', 1997)\n",
        "Android18 = Robot('dbz', 2002)\n",
        "print(Android17.__dict__)\n",
        "print(Android18.__dict__)\n",
        "print(Robot.__dict__)"
      ]
    },
    {
      "cell_type": "code",
      "execution_count": null,
      "id": "08ba3cb2",
      "metadata": {
        "id": "08ba3cb2",
        "outputId": "ceeba5d0-d507-48d4-b0c0-f31c10259aec"
      },
      "outputs": [
        {
          "name": "stdout",
          "output_type": "stream",
          "text": [
            "_Assalamualaikum_ ... :)\n",
            "Jumlah robot saat ini adalah 1\n",
            "_Assalamualaikum_ ... :)\n",
            "Jumlah robot saat ini adalah 2\n"
          ]
        }
      ],
      "source": [
        "class Robot:\n",
        "    # Class variable\n",
        "    jumlah = 0\n",
        "\n",
        "    # __init__ akan dijalankan setiap Objek dibuat\n",
        "    def __init__(self, tipe, tahun=2020):\n",
        "        self.tipe = tipe\n",
        "        self.tahun_produksi = tahun\n",
        "        Robot.jumlah += 1\n",
        "\n",
        "    def sapa(self, nama = ''):\n",
        "        return \"Hi \" + nama\n",
        "    def beriSalam(self): # Method\n",
        "        print('_Assalamualaikum_ ... :)')\n",
        "    def getDetails(self):\n",
        "        return self.tipe, self.tahun_produksi\n",
        "    def gantiTipe(self, tipe):\n",
        "        self.tipe = tipe\n",
        "\n",
        "Android17 = Robot('cbr', 1997)\n",
        "Android17.beriSalam()\n",
        "print(\"Jumlah robot saat ini adalah {}\".format(Robot.jumlah))\n",
        "Android18 = Robot('dbz', 2002)\n",
        "Android18.beriSalam()\n",
        "print(\"Jumlah robot saat ini adalah {}\".format(Robot.jumlah))\n"
      ]
    },
    {
      "cell_type": "markdown",
      "id": "5fd04742",
      "metadata": {
        "id": "5fd04742"
      },
      "source": [
        "## Tapi kenapa pakai objek?\n",
        "\n",
        "### Kenapa tidak (misal):\n",
        "\n",
        "Nama = ['Android17', 'Android18', 'Gundam'] <br />\n",
        "tahun_produksi = [1997, 1998, 1999] <br />\n",
        "tipe = ['dbz', 'dbz', 'superNova'] <br />\n",
        "\n",
        "Karena:\n",
        "\n",
        "- indexing-nya can be messy.\n",
        "- Attribute dan atau Method bisa berbeda.\n",
        "- Panjang list/array bisa berbeda (mirip JSON) ==> Note: json pada dasarnya mirip object.\n",
        "\n",
        "### Tapi kita akan coba contoh yg lebih kompleks agar lebih memahami tentang OOP"
      ]
    },
    {
      "cell_type": "code",
      "execution_count": null,
      "id": "4eac2793",
      "metadata": {
        "id": "4eac2793",
        "outputId": "f20b3141-d4d7-447e-b220-41004f8629bc"
      },
      "outputs": [
        {
          "data": {
            "text/plain": [
              "(True, True)"
            ]
          },
          "execution_count": 26,
          "metadata": {},
          "output_type": "execute_result"
        }
      ],
      "source": [
        "class Mahasiswa:\n",
        "    def __init__(self, nama, nilai):\n",
        "        self.nama = nama\n",
        "        self.nilai = nilai\n",
        "\n",
        "    def nilai_mahasiswa(self):\n",
        "        return self.nilai\n",
        "\n",
        "class Kuliah:\n",
        "    def __init__(self, nama, max_mahasiswa):\n",
        "        self.nama = nama\n",
        "        self.max_mahasiswa = max_mahasiswa\n",
        "        self.mahasiswa = []\n",
        "\n",
        "    def tambah_mahasiswa(self, nama):\n",
        "        if len(self.mahasiswa) < self.max_mahasiswa:\n",
        "            self.mahasiswa.append(nama)\n",
        "            return True\n",
        "        else:\n",
        "            return \"Error: Maaf kelas Penuh\"\n",
        "\n",
        "m1 = Mahasiswa('Udin', 77)\n",
        "m2 = Mahasiswa('Ucok', 67)\n",
        "m3 = Mahasiswa('Asep', 87)\n",
        "\n",
        "kelas = Kuliah('Kalkulus', 2)\n",
        "kelas.tambah_mahasiswa(m1), kelas.tambah_mahasiswa(m2)"
      ]
    },
    {
      "cell_type": "code",
      "execution_count": null,
      "id": "3015dd5d",
      "metadata": {
        "id": "3015dd5d",
        "outputId": "a0447fef-3dc0-4766-c500-c77c956df721"
      },
      "outputs": [
        {
          "data": {
            "text/plain": [
              "'Error: Maaf kelas Penuh'"
            ]
          },
          "execution_count": 28,
          "metadata": {},
          "output_type": "execute_result"
        }
      ],
      "source": [
        "kelas.tambah_mahasiswa(m3)"
      ]
    },
    {
      "cell_type": "code",
      "execution_count": null,
      "id": "9bb443f9",
      "metadata": {
        "id": "9bb443f9",
        "outputId": "3545fa4f-b016-40e6-8056-9cec2eb59972"
      },
      "outputs": [
        {
          "data": {
            "text/plain": [
              "[<__main__.Mahasiswa at 0x1df94c7b0a0>, <__main__.Mahasiswa at 0x1df94c7b670>]"
            ]
          },
          "execution_count": 30,
          "metadata": {},
          "output_type": "execute_result"
        }
      ],
      "source": [
        "# Akses mahasiswa di \"kelas\"?\n",
        "kelas.mahasiswa\n",
        "# List of Objects!\n",
        "# tapi kemudian"
      ]
    },
    {
      "cell_type": "code",
      "execution_count": null,
      "id": "9d495016",
      "metadata": {
        "id": "9d495016",
        "outputId": "0bb7d854-814a-472e-b250-9510818e2937"
      },
      "outputs": [
        {
          "data": {
            "text/plain": [
              "'Udin'"
            ]
          },
          "execution_count": 33,
          "metadata": {},
          "output_type": "execute_result"
        }
      ],
      "source": [
        "kelas.mahasiswa[0].nama\n",
        "# karena elemen list adalah object ...."
      ]
    },
    {
      "cell_type": "code",
      "execution_count": null,
      "id": "3ae46638",
      "metadata": {
        "id": "3ae46638",
        "outputId": "33f8ea70-73c4-4803-d93b-0e41774d6fcb"
      },
      "outputs": [
        {
          "data": {
            "text/plain": [
              "(True, True)"
            ]
          },
          "execution_count": 34,
          "metadata": {},
          "output_type": "execute_result"
        }
      ],
      "source": [
        "# Tambah fungsi rata-rata nilai kelas\n",
        "\n",
        "class Mahasiswa:\n",
        "    def __init__(self, nama, nilai):\n",
        "        self.nama = nama\n",
        "        self.nilai = nilai\n",
        "\n",
        "    def nilai_mahasiswa(self):\n",
        "        return self.nilai\n",
        "\n",
        "class Kuliah:\n",
        "    def __init__(self, nama, max_mahasiswa):\n",
        "        self.nama = nama\n",
        "        self.max_mahasiswa = max_mahasiswa\n",
        "        self.mahasiswa = []\n",
        "\n",
        "    def tambah_mahasiswa(self, nama):\n",
        "        if len(self.mahasiswa) < self.max_mahasiswa:\n",
        "            self.mahasiswa.append(nama)\n",
        "            return True\n",
        "        else:\n",
        "            return \"Error: Maaf kelas Penuh\"\n",
        "    def rerata_nilai(self):\n",
        "        sum_ = 0\n",
        "        for siswa in self.mahasiswa:\n",
        "            sum_ += siswa.nilai_mahasiswa()\n",
        "            # perhatikan disini kita melakukan ini karena siswa adalah objek\n",
        "            # objek siswa punya methode \"nilai_mahasiswa\"\n",
        "        return sum_/len(self.mahasiswa)\n",
        "\n",
        "m1 = Mahasiswa('Udin', 77)\n",
        "m2 = Mahasiswa('Ucok', 67)\n",
        "m3 = Mahasiswa('Asep', 87)\n",
        "\n",
        "kelas = Kuliah('Kalkulus', 2)\n",
        "kelas.tambah_mahasiswa(m1), kelas.tambah_mahasiswa(m2)"
      ]
    },
    {
      "cell_type": "code",
      "execution_count": null,
      "id": "73f6cf66",
      "metadata": {
        "id": "73f6cf66",
        "outputId": "472cb275-f8c3-491f-f9c3-3e0d8c4b8e1d"
      },
      "outputs": [
        {
          "name": "stdout",
          "output_type": "stream",
          "text": [
            "Nilai rata-rata kelas Kalkulus adalah = 72.0\n"
          ]
        }
      ],
      "source": [
        "print(\"Nilai rata-rata kelas {} adalah = {}\".format(kelas.nama, kelas.rerata_nilai()))"
      ]
    },
    {
      "cell_type": "markdown",
      "id": "5c7530a2",
      "metadata": {
        "id": "5c7530a2"
      },
      "source": [
        "## Inheritance\n",
        "![OOP-7.png](attachment:OOP-7.png)"
      ]
    },
    {
      "cell_type": "markdown",
      "id": "01d557e0",
      "metadata": {
        "id": "01d557e0"
      },
      "source": [
        "![OOP-8.png](attachment:OOP-8.png)"
      ]
    },
    {
      "cell_type": "markdown",
      "id": "c36912dc",
      "metadata": {
        "id": "c36912dc"
      },
      "source": [
        "## Mengapa menggunakan inheritance?\n",
        "\n",
        "- Code reusability: bayangkan seperti \"template\".\n",
        "- Transition & Readability: Baik untuk teamwork.\n",
        "- Realworld Relationship: Hubungan antar class/objects"
      ]
    },
    {
      "cell_type": "code",
      "execution_count": null,
      "id": "5e342119",
      "metadata": {
        "id": "5e342119",
        "outputId": "3e087d0a-00dc-4fc6-8da3-da0ce6d002e1"
      },
      "outputs": [
        {
          "name": "stdout",
          "output_type": "stream",
          "text": [
            "ini fungsi di orang tua\n",
            "ini fungsi di anak\n"
          ]
        },
        {
          "data": {
            "text/plain": [
              "(None, None)"
            ]
          },
          "execution_count": 1,
          "metadata": {},
          "output_type": "execute_result"
        }
      ],
      "source": [
        "# Contoh paling sederhana inheritance\n",
        "class Ortu:\n",
        "    def pungsi1(self):\n",
        "        print(\"ini fungsi di orang tua\")\n",
        "\n",
        "class Anak(Ortu):\n",
        "    def pungsi2(self):\n",
        "        print(\"ini fungsi di anak\")\n",
        "\n",
        "sulung = Anak()\n",
        "# PERHATIKAN \"sulung\" memiliki fungsi dari \"Ortu\"\n",
        "sulung.pungsi1(), sulung.pungsi2()"
      ]
    },
    {
      "cell_type": "code",
      "execution_count": null,
      "id": "cdfa9bbb",
      "metadata": {
        "id": "cdfa9bbb",
        "outputId": "17c2640d-694a-4802-ebad-6b78b4a7d188"
      },
      "outputs": [
        {
          "name": "stdout",
          "output_type": "stream",
          "text": [
            "Nama = Budi, Umur = 5, anak Ke-2\n",
            "None\n"
          ]
        }
      ],
      "source": [
        "# Menggunakan init seperti lesson sebelumnya (ADSP-04)\n",
        "class Ortu:\n",
        "    def __init__(self, nama='Bambang', umur='40'):\n",
        "        self.nama = nama\n",
        "        self.umur = umur\n",
        "    def pungsi1(self):\n",
        "        print(\"ini fungsi di orang tua\")\n",
        "    def info(self):# Method dari class seperti Lesson sebelumnya\n",
        "        print(\"Nama = {}, Umur = {}\".format(self.nama, self.umur))\n",
        "\n",
        "class Anak(Ortu):\n",
        "    def __init__(self, nama, umur, anakKe):\n",
        "        Ortu.__init__(self, nama, umur)\n",
        "        self.anakKe = anakKe\n",
        "    def pungsi2(self):\n",
        "        print(\"ini fungsi di anak\")\n",
        "    def info(self):\n",
        "        print(\"Nama = {}, Umur = {}, anak Ke-{}\".format(self.nama, self.umur, self.anakKe))\n",
        "\n",
        "sulung = Anak(\"Budi\", 5, 2) # Property/Method \"Ortu\" di OVERWRITE oleh \"Anak\"\n",
        "print(sulung.info())"
      ]
    },
    {
      "cell_type": "markdown",
      "id": "05958a94",
      "metadata": {
        "id": "05958a94"
      },
      "source": [
        "## <center> Types of Inheritance <center/>\n",
        "\n",
        "![OOP-9-2.png](attachment:OOP-9-2.png)"
      ]
    },
    {
      "cell_type": "code",
      "execution_count": null,
      "id": "5b9f1afd",
      "metadata": {
        "id": "5b9f1afd",
        "outputId": "70eed818-d6c5-4efe-90ed-7d73a10e5578"
      },
      "outputs": [
        {
          "name": "stdout",
          "output_type": "stream",
          "text": [
            "ini fungsi di Ayah\n",
            "None\n"
          ]
        }
      ],
      "source": [
        "# Contoh Single Inheritance\n",
        "class Ayah:\n",
        "    def __init__(self, nama='Bambang', umur='40'):\n",
        "        self.nama = nama\n",
        "        self.umur = umur\n",
        "\n",
        "    def pungsiAyah(self):\n",
        "        print(\"ini fungsi di Ayah\")\n",
        "    def info(self):\n",
        "        print(\"Nama = {}, Umur = {}\".format(self.nama, self.umur))\n",
        "\n",
        "class Anak(Ayah):\n",
        "    def __init__(self, nama, umur, anakKe):\n",
        "        Ayah.__init__(self, nama, umur)\n",
        "        self.anakKe = anakKe\n",
        "\n",
        "    def pungsiAnak(self):\n",
        "        print(\"ini fungsi di anak\")\n",
        "    def info(self):\n",
        "        print(\"Nama = {}, Umur = {}, anak Ke-{}\".format(self.nama, self.umur, self.anakKe))\n",
        "\n",
        "sulung = Anak(\"Budi\", 5, 2) # Property/method \"Ayah\" diwariskan ke \"Anak\"\n",
        "print(sulung.pungsiAyah())"
      ]
    },
    {
      "cell_type": "code",
      "execution_count": null,
      "id": "6c4c56f2",
      "metadata": {
        "id": "6c4c56f2",
        "outputId": "57028d7b-f152-4b38-b9f3-f566041a92be"
      },
      "outputs": [
        {
          "name": "stdout",
          "output_type": "stream",
          "text": [
            "ini fungsi di Ayah\n",
            "ini fungsi di Ibu\n",
            "None None\n"
          ]
        }
      ],
      "source": [
        "# Contoh Multiple Inheritance\n",
        "class Ayah:\n",
        "    def __init__(self, nama='Bambang', umur='40'):\n",
        "        self.nama = nama\n",
        "        self.umur = umur\n",
        "\n",
        "    def pungsiAyah(self):\n",
        "        print(\"ini fungsi di Ayah\")\n",
        "    def info(self):\n",
        "        print(\"Nama = {}, Umur = {}\".format(self.nama, self.umur))\n",
        "\n",
        "class Ibu:\n",
        "    def __init__(self, nama='Wati', umur='40'):\n",
        "        self.nama = nama\n",
        "        self.umur = umur\n",
        "\n",
        "    def pungsiIbu(self):\n",
        "        print(\"ini fungsi di Ibu\")\n",
        "    def info(self):# Method dari class seperti kuliah sebelumnya\n",
        "        print(\"Nama = {}, Umur = {}\".format(self.nama, self.umur))\n",
        "\n",
        "class Anak(Ayah, Ibu):\n",
        "    def __init__(self, nama, umur, anakKe):\n",
        "        Ayah.__init__(self, nama, umur)\n",
        "        self.anakKe = anakKe\n",
        "\n",
        "    def pungsiAnak(self):\n",
        "        print(\"ini fungsi di anak\")\n",
        "    def info(self):\n",
        "        print(\"Nama = {}, Umur = {}, anak Ke-{}\".format(self.nama, self.umur, self.anakKe))\n",
        "\n",
        "sulung = Anak(\"Budi\", 5, 2) # Property/method \"Ayah & Ibu\" diwariskan ke \"Anak\"\n",
        "print(sulung.pungsiAyah(), sulung.pungsiIbu())"
      ]
    },
    {
      "cell_type": "code",
      "execution_count": null,
      "id": "a1719f04",
      "metadata": {
        "id": "a1719f04",
        "outputId": "f8016508-15cf-4b0f-aa0e-637871bc250a"
      },
      "outputs": [
        {
          "name": "stdout",
          "output_type": "stream",
          "text": [
            "ini fungsi di Kakek\n",
            "None\n"
          ]
        }
      ],
      "source": [
        "# Contoh Multilevel Inheritance\n",
        "class Kakek:\n",
        "    def __init__(self, nama='Iwan', umur='40'):\n",
        "        self.nama = nama\n",
        "        self.umur = umur\n",
        "\n",
        "    def pungsiKakek(self):\n",
        "        print(\"ini fungsi di Kakek\")\n",
        "    def info(self):# Method dari class seperti kuliah sebelumnya\n",
        "        print(\"Nama = {}, Umur = {}\".format(self.nama, self.umur))\n",
        "\n",
        "class Ortu(Kakek):\n",
        "    def __init__(self, nama='Parto', umur='40'):\n",
        "        self.nama = nama\n",
        "        self.umur = umur\n",
        "\n",
        "    def pungsiOrtu(self):\n",
        "        print(\"ini fungsi di Ortu\")\n",
        "    def info(self):\n",
        "        print(\"Nama = {}, Umur = {}\".format(self.nama, self.umur))\n",
        "\n",
        "class Anak(Ortu):\n",
        "    def __init__(self, nama, umur, anakKe):\n",
        "        Ayah.__init__(self, nama, umur)\n",
        "        self.anakKe = anakKe\n",
        "\n",
        "    def pungsiAnak(self):\n",
        "        print(\"ini fungsi di anak\")\n",
        "    def info(self):\n",
        "        print(\"Nama = {}, Umur = {}, anak Ke-{}\".format(self.nama, self.umur, self.anakKe))\n",
        "\n",
        "sulung = Anak(\"Budi\", 5, 2) # Property/method \"Ortu dan Kakek\" diwariskan ke \"Anak\"\n",
        "print(sulung.pungsiKakek())"
      ]
    },
    {
      "cell_type": "code",
      "execution_count": null,
      "id": "da3ff4de",
      "metadata": {
        "id": "da3ff4de",
        "outputId": "f8270177-7e93-4752-ae86-f4ce6ed34c5d"
      },
      "outputs": [
        {
          "name": "stdout",
          "output_type": "stream",
          "text": [
            "ini fungsi di Kakek\n",
            "ini fungsi di Kakek\n",
            "None None\n"
          ]
        }
      ],
      "source": [
        "# Contoh Hierarchical inheritance\n",
        "class Kakek:\n",
        "    def __init__(self, nama='Iwan', umur='40'):\n",
        "        self.nama = nama\n",
        "        self.umur = umur\n",
        "\n",
        "    def pungsiKakek(self):\n",
        "        print(\"ini fungsi di Kakek\")\n",
        "    def info(self):\n",
        "        print(\"Nama = {}, Umur = {}\".format(self.nama, self.umur))\n",
        "\n",
        "class Ortu(Kakek):\n",
        "    def __init__(self, nama='Parto', umur='40'):\n",
        "        self.nama = nama\n",
        "        self.umur = umur\n",
        "\n",
        "    def pungsiOrtu(self):\n",
        "        print(\"ini fungsi di Ortu\")\n",
        "    def info(self):\n",
        "        print(\"Nama = {}, Umur = {}\".format(self.nama, self.umur))\n",
        "\n",
        "class Paman(Kakek):\n",
        "    def __init__(self, nama='Denis', umur='32'):\n",
        "        self.nama = nama\n",
        "        self.umur = umur\n",
        "\n",
        "    def pungsiPaman(self):\n",
        "        print(\"ini fungsi di Paman\")\n",
        "    def info(self):\n",
        "        print(\"Nama = {}, Umur = {}\".format(self.nama, self.umur))\n",
        "\n",
        "ortu = Ortu(\"Budi\", 52)\n",
        "paman = Paman(\"Parjo\", 34)\n",
        "print(ortu.pungsiKakek(), paman.pungsiKakek())"
      ]
    },
    {
      "cell_type": "code",
      "execution_count": null,
      "id": "1f7d80db",
      "metadata": {
        "id": "1f7d80db",
        "outputId": "3578e74f-3edb-47bc-e1b0-57f8314b9a1a"
      },
      "outputs": [
        {
          "name": "stdout",
          "output_type": "stream",
          "text": [
            "ini fungsi di Paman\n",
            "ini fungsi di Kakek\n",
            "None None\n"
          ]
        }
      ],
      "source": [
        "# Contoh Hybrid inheritance\n",
        "class Kakek:\n",
        "    def __init__(self, nama='Iwan', umur='40'):\n",
        "        self.nama = nama\n",
        "        self.umur = umur\n",
        "\n",
        "    def pungsiKakek(self):\n",
        "        print(\"ini fungsi di Kakek\")\n",
        "    def info(self):\n",
        "        print(\"Nama = {}, Umur = {}\".format(self.nama, self.umur))\n",
        "\n",
        "class Ortu(Kakek):\n",
        "    def __init__(self, nama='Parto', umur='40'):\n",
        "        self.nama = nama\n",
        "        self.umur = umur\n",
        "\n",
        "    def pungsiOrtu(self):\n",
        "        print(\"ini fungsi di Ortu\")\n",
        "    def info(self):\n",
        "        print(\"Nama = {}, Umur = {}\".format(self.nama, self.umur))\n",
        "\n",
        "class Paman(Kakek):\n",
        "    def __init__(self, nama='Denis', umur='32'):\n",
        "        self.nama = nama\n",
        "        self.umur = umur\n",
        "\n",
        "    def pungsiPaman(self):\n",
        "        print(\"ini fungsi di Paman\")\n",
        "    def info(self):\n",
        "        print(\"Nama = {}, Umur = {}\".format(self.nama, self.umur))\n",
        "\n",
        "class Anak(Paman, Ortu):\n",
        "    def __init__(self, nama, umur, anakKe):\n",
        "        Paman.__init__(self, nama, umur)\n",
        "        self.anakKe = anakKe\n",
        "\n",
        "    def pungsiAnak(self):\n",
        "        print(\"ini fungsi di anak\")\n",
        "    def info(self):\n",
        "        print(\"Nama = {}, Umur = {}, anak Ke-{}\".format(self.nama, self.umur, self.anakKe))\n",
        "\n",
        "sulung = Anak(\"Budi\", 5, 2)\n",
        "print(sulung.pungsiPaman(), sulung.pungsiKakek())"
      ]
    },
    {
      "cell_type": "markdown",
      "id": "dd70a147",
      "metadata": {
        "id": "dd70a147"
      },
      "source": [
        "## Super Function"
      ]
    },
    {
      "cell_type": "code",
      "execution_count": null,
      "id": "d3ad49d8",
      "metadata": {
        "id": "d3ad49d8",
        "outputId": "492796d1-06e2-4429-911c-4233e65617e5"
      },
      "outputs": [
        {
          "name": "stdout",
          "output_type": "stream",
          "text": [
            "ini fungsi di Ortu\n",
            "ini di dalam fungsi Anak\n"
          ]
        }
      ],
      "source": [
        "class Ortu():\n",
        "    def pungsiOrtu(self):\n",
        "        print(\"ini fungsi di Ortu\")\n",
        "\n",
        "class Anak(Ortu):\n",
        "    def pungsiAnak(self):\n",
        "        super().pungsiOrtu()\n",
        "        print(\"ini di dalam fungsi Anak\")\n",
        "\n",
        "sulung = Anak()\n",
        "sulung.pungsiAnak()"
      ]
    },
    {
      "cell_type": "markdown",
      "id": "4c32fbbd",
      "metadata": {
        "id": "4c32fbbd"
      },
      "source": [
        "## Polimorfisme\n",
        "\n",
        "**Method Overriding/Overwriting**: Subclass dapat menggantikan method dari superclass dengan nama method yang sama."
      ]
    },
    {
      "cell_type": "code",
      "execution_count": null,
      "id": "27640a9f",
      "metadata": {
        "id": "27640a9f",
        "outputId": "ac4a2c63-d629-4928-d317-a0861d27891b"
      },
      "outputs": [
        {
          "name": "stdout",
          "output_type": "stream",
          "text": [
            "ini di dalam fungsi Anak\n"
          ]
        }
      ],
      "source": [
        "class Ortu():\n",
        "    def pungsi(self):\n",
        "        print(\"ini fungsi di Ortu\")\n",
        "\n",
        "class Anak(Ortu):\n",
        "    def pungsi(self): # Perhatikan Nama fungsi Sama\n",
        "        print(\"ini di dalam fungsi Anak\")\n",
        "\n",
        "sulung = Anak()\n",
        "sulung.pungsi()"
      ]
    },
    {
      "cell_type": "markdown",
      "id": "2804ecf9",
      "metadata": {
        "id": "2804ecf9"
      },
      "source": [
        "# Study Case"
      ]
    },
    {
      "cell_type": "code",
      "execution_count": null,
      "id": "630f5e28",
      "metadata": {
        "id": "630f5e28",
        "outputId": "792e236f-9356-4577-e71e-aaf63410f8e8"
      },
      "outputs": [
        {
          "name": "stdout",
          "output_type": "stream",
          "text": [
            "Judul: Harry Potter dan Batu Bertuah, Pengarang: J.K. Rowling, Tahun Terbit: 1997, Genre: Fantasi\n",
            "Judul: Sapiens: Riwayat Singkat Umat Manusia, Pengarang: Yuval Noah Harari, Tahun Terbit: 2011, Bidang Studi: Sejarah\n"
          ]
        }
      ],
      "source": [
        "# Kelas Induk\n",
        "class Buku:\n",
        "    def __init__(self, judul, pengarang, tahun_terbit):\n",
        "        self.judul = judul\n",
        "        self.pengarang = pengarang\n",
        "        self.tahun_terbit = tahun_terbit\n",
        "\n",
        "    def deskripsi(self):\n",
        "        return f\"Judul: {self.judul}, Pengarang: {self.pengarang}, Tahun Terbit: {self.tahun_terbit}\"\n",
        "\n",
        "# Kelas Anak BukuFiksi\n",
        "class BukuFiksi(Buku):\n",
        "    def __init__(self, judul, pengarang, tahun_terbit, genre):\n",
        "        self.judul = judul\n",
        "        self.pengarang = pengarang\n",
        "        self.tahun_terbit = tahun_terbit\n",
        "        self.genre = genre\n",
        "\n",
        "    def deskripsi(self):\n",
        "        base_deskripsi = super().deskripsi()\n",
        "        return f\"{base_deskripsi}, Genre: {self.genre}\"\n",
        "\n",
        "# Kelas Anak BukuNonFiksi\n",
        "class BukuNonFiksi(Buku):\n",
        "    def __init__(self, judul, pengarang, tahun_terbit, bidang_studi):\n",
        "        self.judul = judul\n",
        "        self.pengarang = pengarang\n",
        "        self.tahun_terbit = tahun_terbit\n",
        "        self.bidang_studi = bidang_studi\n",
        "\n",
        "    def deskripsi(self):\n",
        "        base_deskripsi = super().deskripsi()\n",
        "        return f\"{base_deskripsi}, Bidang Studi: {self.bidang_studi}\"\n",
        "\n",
        "# Membuat objek\n",
        "buku_fiksi1 = BukuFiksi(\"Harry Potter dan Batu Bertuah\", \"J.K. Rowling\", 1997, \"Fantasi\")\n",
        "buku_nonfiksi1 = BukuNonFiksi(\"Sapiens: Riwayat Singkat Umat Manusia\", \"Yuval Noah Harari\", 2011, \"Sejarah\")\n",
        "\n",
        "# Menampilkan deskripsi\n",
        "print(buku_fiksi1.deskripsi())\n",
        "print(buku_nonfiksi1.deskripsi())"
      ]
    },
    {
      "cell_type": "code",
      "execution_count": null,
      "id": "776888aa",
      "metadata": {
        "id": "776888aa",
        "outputId": "a29494f1-5815-40d8-9b78-549d3cbe6bed"
      },
      "outputs": [
        {
          "name": "stdout",
          "output_type": "stream",
          "text": [
            "Judul: Harry Potter dan Batu Bertuah, Pengarang: J.K. Rowling, Tahun Terbit: 1997, Genre: Fantasi\n",
            "Judul: Sapiens: Riwayat Singkat Umat Manusia, Pengarang: Yuval Noah Harari, Tahun Terbit: 2011, Bidang Studi: Sejarah\n"
          ]
        }
      ],
      "source": [
        "# Kelas Induk\n",
        "class Buku:\n",
        "    def __init__(self, judul, pengarang, tahun_terbit):\n",
        "        self.judul = judul\n",
        "        self.pengarang = pengarang\n",
        "        self.tahun_terbit = tahun_terbit\n",
        "\n",
        "    def deskripsi(self):\n",
        "        return f\"Judul: {self.judul}, Pengarang: {self.pengarang}, Tahun Terbit: {self.tahun_terbit}\"\n",
        "\n",
        "# Kelas Anak BukuFiksi\n",
        "class BukuFiksi(Buku):\n",
        "    def __init__(self, judul, pengarang, tahun_terbit, genre):\n",
        "        super().__init__(judul, pengarang, tahun_terbit)\n",
        "        self.genre = genre\n",
        "\n",
        "    def deskripsi(self):\n",
        "        base_deskripsi = super().deskripsi()\n",
        "        return f\"{base_deskripsi}, Genre: {self.genre}\"\n",
        "\n",
        "# Kelas Anak BukuNonFiksi\n",
        "class BukuNonFiksi(Buku):\n",
        "    def __init__(self, judul, pengarang, tahun_terbit, bidang_studi):\n",
        "        super().__init__(judul, pengarang, tahun_terbit)\n",
        "        self.bidang_studi = bidang_studi\n",
        "\n",
        "    def deskripsi(self):\n",
        "        base_deskripsi = super().deskripsi()\n",
        "        return f\"{base_deskripsi}, Bidang Studi: {self.bidang_studi}\"\n",
        "\n",
        "# Membuat objek\n",
        "buku_fiksi1 = BukuFiksi(\"Harry Potter dan Batu Bertuah\", \"J.K. Rowling\", 1997, \"Fantasi\")\n",
        "buku_nonfiksi1 = BukuNonFiksi(\"Sapiens: Riwayat Singkat Umat Manusia\", \"Yuval Noah Harari\", 2011, \"Sejarah\")\n",
        "\n",
        "# Menampilkan deskripsi\n",
        "print(buku_fiksi1.deskripsi())\n",
        "print(buku_nonfiksi1.deskripsi())"
      ]
    }
  ],
  "metadata": {
    "kernelspec": {
      "display_name": "Python 3 (ipykernel)",
      "language": "python",
      "name": "python3"
    },
    "language_info": {
      "codemirror_mode": {
        "name": "ipython",
        "version": 3
      },
      "file_extension": ".py",
      "mimetype": "text/x-python",
      "name": "python",
      "nbconvert_exporter": "python",
      "pygments_lexer": "ipython3",
      "version": "3.11.5"
    },
    "colab": {
      "provenance": []
    }
  },
  "nbformat": 4,
  "nbformat_minor": 5
}